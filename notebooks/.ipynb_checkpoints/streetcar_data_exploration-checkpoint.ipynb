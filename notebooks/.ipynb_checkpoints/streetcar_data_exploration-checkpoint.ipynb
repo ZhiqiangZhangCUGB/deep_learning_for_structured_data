{
 "cells": [
  {
   "cell_type": "markdown",
   "metadata": {},
   "source": [
    "# Streetcar Delay Prediction - Data Exploration\n",
    "\n",
    "Use dataset covering Toronto Transit Commission (TTC) streetcar delays 2014 - present to predict future delays and come up with recommendations for avoiding delays.\n",
    "\n",
    "Source dataset: : https://open.toronto.ca/dataset/ttc-streetcar-delay-data/\n",
    "\n",
    "This notebook contains the common data loading and exploration steps:\n",
    "- load data from all the tabs of all the XLS files into a single dataframe\n"
   ]
  },
  {
   "cell_type": "markdown",
   "metadata": {},
   "source": [
    "# Streetcar routes\n",
    "\n",
    "From https://www.ttc.ca/Routes/Streetcars.jsp\n",
    "\n",
    "<table style=\"border: none\" align=\"left\">\n",
    "   </tr>\n",
    "   <tr style=\"border: none\">\n",
    "       <th style=\"border: none\"><img src=\"https://raw.githubusercontent.com/ryanmark1867/streetcarnov3/master/streetcar%20routes.jpg\" width=\"600\" alt=\"Icon\"> </th>\n",
    "   </tr>\n",
    "</table>"
   ]
  },
  {
   "cell_type": "markdown",
   "metadata": {},
   "source": [
    "# Streetcar vehicle IDs CLRV/ALRV\n",
    "\n",
    "From https://en.wikipedia.org/wiki/Toronto_streetcar_system_rolling_stock#CLRVs_and_ALRVs\n",
    "\n",
    "<table style=\"border: none\" align=\"left\">\n",
    "   </tr>\n",
    "   <tr style=\"border: none\">\n",
    "       <th style=\"border: none\"><img src=\"https://raw.githubusercontent.com/ryanmark1867/streetcarnov3/master/streetcarCLRV.jpg\" width=\"600\" alt=\"Icon\"> </th>\n",
    "   </tr>\n",
    "</table>"
   ]
  },
  {
   "cell_type": "code",
   "execution_count": 1,
   "metadata": {},
   "outputs": [
    {
     "name": "stdout",
     "output_type": "stream",
     "text": [
      "valid streetcars [4000, 4001, 4002, 4003, 4004, 4010, 4011, 4012, 4013, 4014, 4015, 4016, 4017, 4018, 4019, 4020, 4021, 4022, 4023, 4024, 4025, 4026, 4027, 4028, 4029, 4030, 4031, 4032, 4033, 4034, 4035, 4036, 4037, 4038, 4039, 4040, 4041, 4042, 4043, 4044, 4045, 4046, 4047, 4048, 4049, 4050, 4051, 4052, 4053, 4054, 4055, 4056, 4057, 4058, 4059, 4060, 4061, 4062, 4063, 4064, 4065, 4066, 4067, 4068, 4069, 4070, 4071, 4072, 4073, 4074, 4075, 4076, 4077, 4078, 4079, 4080, 4081, 4082, 4083, 4084, 4085, 4086, 4087, 4088, 4089, 4090, 4091, 4092, 4093, 4094, 4095, 4096, 4097, 4098, 4099, 4100, 4101, 4102, 4103, 4104, 4105, 4106, 4107, 4108, 4109, 4110, 4111, 4112, 4113, 4114, 4115, 4116, 4117, 4118, 4119, 4120, 4121, 4122, 4123, 4124, 4125, 4126, 4127, 4128, 4129, 4130, 4131, 4132, 4133, 4134, 4135, 4136, 4137, 4138, 4139, 4140, 4141, 4142, 4143, 4144, 4145, 4146, 4147, 4148, 4149, 4150, 4151, 4152, 4153, 4154, 4155, 4156, 4157, 4158, 4159, 4160, 4161, 4162, 4163, 4164, 4165, 4166, 4167, 4168, 4169, 4170, 4171, 4172, 4173, 4174, 4175, 4176, 4177, 4178, 4179, 4180, 4181, 4182, 4183, 4184, 4185, 4186, 4187, 4188, 4189, 4190, 4191, 4192, 4193, 4194, 4195, 4196, 4197, 4198, 4199, 4200, 4201, 4202, 4203, 4204, 4205, 4206, 4207, 4208, 4209, 4210, 4211, 4212, 4213, 4214, 4215, 4216, 4217, 4218, 4219, 4220, 4221, 4222, 4223, 4224, 4225, 4226, 4227, 4228, 4229, 4230, 4231, 4232, 4233, 4234, 4235, 4236, 4237, 4238, 4239, 4240, 4241, 4242, 4243, 4244, 4245, 4246, 4247, 4248, 4249, 4250, 4251, 4900, 4400, 4402, 4403, 4404, 4405, 4406, 4407, 4408, 4409, 4410, 4411, 4412, 4413, 4414, 4415, 4416, 4417, 4418, 4419, 4420, 4421, 4422, 4423, 4424, 4425, 4426, 4427, 4428, 4429, 4430, 4431, 4432, 4433, 4434, 4435, 4436, 4437, 4438, 4439, 4440, 4441, 4442, 4443, 4444, 4445, 4446, 4447, 4448, 4449, 4450, 4451, 4452, 4453, 4454, 4455, 4456, 4457, 4458, 4459, 4460, 4461, 4462, 4463, 4464, 4465, 4466, 4467, 4468, 4469, 4470, 4471, 4472, 4473, 4474, 4475, 4476, 4477, 4478, 4479, 4480, 4481, 4482, 4483, 4484, 4485, 4486, 4487, 4488, 4489, 4490, 4491, 4492, 4493, 4494, 4495, 4496, 4497, 4498, 4499, 4500, 4501, 4502, 4503, 4504, 4505, 4506, 4507]\n"
     ]
    }
   ],
   "source": [
    "streetcar_vehicles = list(range(4000,4006))+ list(range(4010,4200)) +  list(range(4200,4252)) + [4900]\n",
    "streetcar_vehicles = streetcar_vehicles + [4400] + list(range(4402,4508))\n",
    "print(\"valid streetcars\",streetcar_vehicles)"
   ]
  },
  {
   "cell_type": "markdown",
   "metadata": {},
   "source": [
    "# Streetcar vehicle IDs Flexity\n",
    "\n",
    "From https://en.wikipedia.org/wiki/Toronto_streetcar_system_rolling_stock#CLRVs_and_ALRVs\n",
    "\n",
    "<table style=\"border: none\" align=\"left\">\n",
    "   </tr>\n",
    "   <tr style=\"border: none\">\n",
    "       <th style=\"border: none\"><img src=\"https://raw.githubusercontent.com/ryanmark1867/streetcarnov3/master/streetcarflexity.jpg\" width=\"600\" alt=\"Icon\"> </th>\n",
    "   </tr>\n",
    "</table>"
   ]
  },
  {
   "cell_type": "markdown",
   "metadata": {},
   "source": [
    "# Bus identification\n",
    "The following links define the valid non-streetcar vehicles that can be delayed by streetcar incidents\n",
    "\n",
    "- Buses 1xxx: https://cptdb.ca/wiki/index.php/Toronto_Transit_Commission_1000-1149\n",
    "- Buses 2xxx: https://cptdb.ca/wiki/index.php/Toronto_Transit_Commission_2000-2110,_2150-2155,_2240-2485,_2600-2619,_2700-2765,_2767-2858\n",
    "- Buses 70xx: https://cptdb.ca/wiki/index.php/Toronto_Transit_Commission_7000-7134\n",
    "- Buses 74xx: https://cptdb.ca/wiki/index.php/Toronto_Transit_Commission_7400-7499,_7500-7619,_7620-7881\n",
    "- Buses 8xxx: https://cptdb.ca/wiki/index.php/Toronto_Transit_Commission_8000-8099\n",
    "- Buses 9xxx: https://cptdb.ca/wiki/index.php/Toronto_Transit_Commission_9000-9026\n",
    "\n",
    "\n",
    "\n",
    "\n",
    "\n"
   ]
  },
  {
   "cell_type": "code",
   "execution_count": 2,
   "metadata": {},
   "outputs": [
    {
     "name": "stdout",
     "output_type": "stream",
     "text": [
      "valid vehicles [4000, 4001, 4002, 4003, 4004, 4010, 4011, 4012, 4013, 4014, 4015, 4016, 4017, 4018, 4019, 4020, 4021, 4022, 4023, 4024, 4025, 4026, 4027, 4028, 4029, 4030, 4031, 4032, 4033, 4034, 4035, 4036, 4037, 4038, 4039, 4040, 4041, 4042, 4043, 4044, 4045, 4046, 4047, 4048, 4049, 4050, 4051, 4052, 4053, 4054, 4055, 4056, 4057, 4058, 4059, 4060, 4061, 4062, 4063, 4064, 4065, 4066, 4067, 4068, 4069, 4070, 4071, 4072, 4073, 4074, 4075, 4076, 4077, 4078, 4079, 4080, 4081, 4082, 4083, 4084, 4085, 4086, 4087, 4088, 4089, 4090, 4091, 4092, 4093, 4094, 4095, 4096, 4097, 4098, 4099, 4100, 4101, 4102, 4103, 4104, 4105, 4106, 4107, 4108, 4109, 4110, 4111, 4112, 4113, 4114, 4115, 4116, 4117, 4118, 4119, 4120, 4121, 4122, 4123, 4124, 4125, 4126, 4127, 4128, 4129, 4130, 4131, 4132, 4133, 4134, 4135, 4136, 4137, 4138, 4139, 4140, 4141, 4142, 4143, 4144, 4145, 4146, 4147, 4148, 4149, 4150, 4151, 4152, 4153, 4154, 4155, 4156, 4157, 4158, 4159, 4160, 4161, 4162, 4163, 4164, 4165, 4166, 4167, 4168, 4169, 4170, 4171, 4172, 4173, 4174, 4175, 4176, 4177, 4178, 4179, 4180, 4181, 4182, 4183, 4184, 4185, 4186, 4187, 4188, 4189, 4190, 4191, 4192, 4193, 4194, 4195, 4196, 4197, 4198, 4199, 4200, 4201, 4202, 4203, 4204, 4205, 4206, 4207, 4208, 4209, 4210, 4211, 4212, 4213, 4214, 4215, 4216, 4217, 4218, 4219, 4220, 4221, 4222, 4223, 4224, 4225, 4226, 4227, 4228, 4229, 4230, 4231, 4232, 4233, 4234, 4235, 4236, 4237, 4238, 4239, 4240, 4241, 4242, 4243, 4244, 4245, 4246, 4247, 4248, 4249, 4250, 4251, 4900, 4400, 4402, 4403, 4404, 4405, 4406, 4407, 4408, 4409, 4410, 4411, 4412, 4413, 4414, 4415, 4416, 4417, 4418, 4419, 4420, 4421, 4422, 4423, 4424, 4425, 4426, 4427, 4428, 4429, 4430, 4431, 4432, 4433, 4434, 4435, 4436, 4437, 4438, 4439, 4440, 4441, 4442, 4443, 4444, 4445, 4446, 4447, 4448, 4449, 4450, 4451, 4452, 4453, 4454, 4455, 4456, 4457, 4458, 4459, 4460, 4461, 4462, 4463, 4464, 4465, 4466, 4467, 4468, 4469, 4470, 4471, 4472, 4473, 4474, 4475, 4476, 4477, 4478, 4479, 4480, 4481, 4482, 4483, 4484, 4485, 4486, 4487, 4488, 4489, 4490, 4491, 4492, 4493, 4494, 4495, 4496, 4497, 4498, 4499, 4500, 4501, 4502, 4503, 4504, 4505, 4506, 4507, 1000, 1001, 1002, 1003, 1004, 1005, 1006, 1007, 1008, 1009, 1010, 1011, 1012, 1013, 1014, 1015, 1016, 1017, 1018, 1019, 1020, 1021, 1022, 1023, 1024, 1025, 1026, 1027, 1028, 1029, 1030, 1031, 1032, 1033, 1034, 1035, 1036, 1037, 1038, 1039, 1040, 1041, 1042, 1043, 1044, 1045, 1046, 1047, 1048, 1049, 1050, 1051, 1052, 1053, 1054, 1055, 1056, 1057, 1058, 1059, 1060, 1061, 1062, 1063, 1064, 1065, 1066, 1067, 1068, 1069, 1070, 1071, 1072, 1073, 1074, 1075, 1076, 1077, 1078, 1079, 1080, 1081, 1082, 1083, 1084, 1085, 1086, 1087, 1088, 1089, 1090, 1091, 1092, 1093, 1094, 1095, 1096, 1097, 1098, 1099, 1100, 1101, 1102, 1103, 1104, 1105, 1106, 1107, 1108, 1109, 1110, 1111, 1112, 1113, 1114, 1115, 1116, 1117, 1118, 1119, 1120, 1121, 1122, 1123, 1124, 1125, 1126, 1127, 1128, 1129, 1130, 1131, 1132, 1133, 1134, 1135, 1136, 1137, 1138, 1139, 1140, 1141, 1142, 1143, 1144, 1145, 1146, 1147, 1148, 1149, 2000, 2001, 2002, 2003, 2004, 2005, 2006, 2007, 2008, 2009, 2010, 2011, 2012, 2013, 2014, 2015, 2016, 2017, 2018, 2019, 2020, 2021, 2022, 2023, 2024, 2025, 2026, 2027, 2028, 2029, 2030, 2031, 2032, 2033, 2034, 2035, 2036, 2037, 2038, 2039, 2040, 2041, 2042, 2043, 2044, 2045, 2046, 2047, 2048, 2049, 2050, 2051, 2052, 2053, 2054, 2055, 2056, 2057, 2058, 2059, 2060, 2061, 2062, 2063, 2064, 2065, 2066, 2067, 2068, 2069, 2070, 2071, 2072, 2073, 2074, 2075, 2076, 2077, 2078, 2079, 2080, 2081, 2082, 2083, 2084, 2085, 2086, 2087, 2088, 2089, 2090, 2091, 2092, 2093, 2094, 2095, 2096, 2097, 2098, 2099, 2100, 2101, 2102, 2103, 2104, 2105, 2106, 2107, 2108, 2109, 2110, 2150, 2151, 2152, 2153, 2154, 2155, 2240, 2241, 2242, 2243, 2244, 2245, 2246, 2247, 2248, 2249, 2250, 2251, 2252, 2253, 2254, 2255, 2256, 2257, 2258, 2259, 2260, 2261, 2262, 2263, 2264, 2265, 2266, 2267, 2268, 2269, 2270, 2271, 2272, 2273, 2274, 2275, 2276, 2277, 2278, 2279, 2280, 2281, 2282, 2283, 2284, 2285, 2286, 2287, 2288, 2289, 2290, 2291, 2292, 2293, 2294, 2295, 2296, 2297, 2298, 2299, 2300, 2301, 2302, 2303, 2304, 2305, 2306, 2307, 2308, 2309, 2310, 2311, 2312, 2313, 2314, 2315, 2316, 2317, 2318, 2319, 2320, 2321, 2322, 2323, 2324, 2325, 2326, 2327, 2328, 2329, 2330, 2331, 2332, 2333, 2334, 2335, 2336, 2337, 2338, 2339, 2340, 2341, 2342, 2343, 2344, 2345, 2346, 2347, 2348, 2349, 2350, 2351, 2352, 2353, 2354, 2355, 2356, 2357, 2358, 2359, 2360, 2361, 2362, 2363, 2364, 2365, 2366, 2367, 2368, 2369, 2370, 2371, 2372, 2373, 2374, 2375, 2376, 2377, 2378, 2379, 2380, 2381, 2382, 2383, 2384, 2385, 2386, 2387, 2388, 2389, 2390, 2391, 2392, 2393, 2394, 2395, 2396, 2397, 2398, 2399, 2400, 2401, 2402, 2403, 2404, 2405, 2406, 2407, 2408, 2409, 2410, 2411, 2412, 2413, 2414, 2415, 2416, 2417, 2418, 2419, 2420, 2421, 2422, 2423, 2424, 2425, 2426, 2427, 2428, 2429, 2430, 2431, 2432, 2433, 2434, 2435, 2436, 2437, 2438, 2439, 2440, 2441, 2442, 2443, 2444, 2445, 2446, 2447, 2448, 2449, 2450, 2451, 2452, 2453, 2454, 2455, 2456, 2457, 2458, 2459, 2460, 2461, 2462, 2463, 2464, 2465, 2466, 2467, 2468, 2469, 2470, 2471, 2472, 2473, 2474, 2475, 2476, 2477, 2478, 2479, 2480, 2481, 2482, 2483, 2484, 2485, 2600, 2601, 2602, 2603, 2604, 2605, 2606, 2607, 2608, 2609, 2610, 2611, 2612, 2613, 2614, 2615, 2616, 2617, 2618, 2619, 2700, 2701, 2702, 2703, 2704, 2705, 2706, 2707, 2708, 2709, 2710, 2711, 2712, 2713, 2714, 2715, 2716, 2717, 2718, 2719, 2720, 2721, 2722, 2723, 2724, 2725, 2726, 2727, 2728, 2729, 2730, 2731, 2732, 2733, 2734, 2735, 2736, 2737, 2738, 2739, 2740, 2741, 2742, 2743, 2744, 2745, 2746, 2747, 2748, 2749, 2750, 2751, 2752, 2753, 2754, 2755, 2756, 2757, 2758, 2759, 2760, 2761, 2762, 2763, 2764, 2765, 2767, 2768, 2769, 2770, 2771, 2772, 2773, 2774, 2775, 2776, 2777, 2778, 2779, 2780, 2781, 2782, 2783, 2784, 2785, 2786, 2787, 2788, 2789, 2790, 2791, 2792, 2793, 2794, 2795, 2796, 2797, 2798, 2799, 2800, 2801, 2802, 2803, 2804, 2805, 2806, 2807, 2808, 2809, 2810, 2811, 2812, 2813, 2814, 2815, 2816, 2817, 2818, 2819, 2820, 2821, 2822, 2823, 2824, 2825, 2826, 2827, 2828, 2829, 2830, 2831, 2832, 2833, 2834, 2835, 2836, 2837, 2838, 2839, 2840, 2841, 2842, 2843, 2844, 2845, 2846, 2847, 2848, 2849, 2850, 2851, 2852, 2853, 2854, 2855, 2856, 2857, 2858, 7000, 7001, 7002, 7003, 7004, 7005, 7006, 7007, 7008, 7009, 7010, 7011, 7012, 7013, 7014, 7015, 7016, 7017, 7018, 7019, 7020, 7021, 7022, 7023, 7024, 7025, 7026, 7027, 7028, 7029, 7030, 7031, 7032, 7033, 7034, 7035, 7036, 7037, 7038, 7039, 7040, 7041, 7042, 7043, 7044, 7045, 7046, 7047, 7048, 7049, 7050, 7051, 7052, 7053, 7054, 7055, 7056, 7057, 7058, 7059, 7060, 7061, 7062, 7063, 7064, 7065, 7066, 7067, 7068, 7069, 7070, 7071, 7072, 7073, 7074, 7075, 7076, 7077, 7078, 7079, 7080, 7081, 7082, 7083, 7084, 7085, 7086, 7087, 7088, 7089, 7090, 7091, 7092, 7093, 7094, 7095, 7096, 7097, 7098, 7099, 7100, 7101, 7102, 7103, 7104, 7105, 7106, 7107, 7108, 7109, 7110, 7111, 7112, 7113, 7114, 7115, 7116, 7117, 7118, 7119, 7120, 7121, 7122, 7123, 7124, 7125, 7126, 7127, 7128, 7129, 7130, 7131, 7132, 7133, 7134, 7400, 7401, 7402, 7403, 7404, 7405, 7406, 7407, 7408, 7409, 7410, 7411, 7412, 7413, 7414, 7415, 7416, 7417, 7418, 7419, 7420, 7421, 7422, 7423, 7424, 7425, 7426, 7427, 7428, 7429, 7430, 7431, 7432, 7433, 7434, 7435, 7436, 7437, 7438, 7439, 7440, 7441, 7442, 7443, 7444, 7445, 7446, 7447, 7448, 7449, 7500, 7501, 7502, 7503, 7504, 7505, 7506, 7507, 7508, 7509, 7510, 7511, 7512, 7513, 7514, 7515, 7516, 7517, 7518, 7519, 7520, 7521, 7522, 7523, 7524, 7525, 7526, 7527, 7528, 7529, 7530, 7531, 7532, 7533, 7534, 7535, 7536, 7537, 7538, 7539, 7540, 7541, 7542, 7543, 7544, 7545, 7546, 7547, 7548, 7549, 7550, 7551, 7552, 7553, 7554, 7555, 7556, 7557, 7558, 7559, 7560, 7561, 7562, 7563, 7564, 7565, 7566, 7567, 7568, 7569, 7570, 7571, 7572, 7573, 7574, 7575, 7576, 7577, 7578, 7579, 7580, 7581, 7582, 7583, 7584, 7585, 7586, 7587, 7588, 7589, 7590, 7591, 7592, 7593, 7594, 7595, 7596, 7597, 7598, 7599, 7600, 7601, 7602, 7603, 7604, 7605, 7606, 7607, 7608, 7609, 7610, 7611, 7612, 7613, 7614, 7615, 7616, 7617, 7618, 7619, 7620, 7621, 7622, 7623, 7624, 7625, 7626, 7627, 7628, 7629, 7630, 7631, 7632, 7633, 7634, 7635, 7636, 7637, 7638, 7639, 7640, 7641, 7642, 7643, 7644, 7645, 7646, 7647, 7648, 7649, 7650, 7651, 7652, 7653, 7654, 7655, 7656, 7657, 7658, 7659, 7660, 7661, 7662, 7663, 7664, 7665, 7666, 7667, 7668, 7669, 7670, 7671, 7672, 7673, 7674, 7675, 7676, 7677, 7678, 7679, 7680, 7681, 7682, 7683, 7684, 7685, 7686, 7687, 7688, 7689, 7690, 7691, 7692, 7693, 7694, 7695, 7696, 7697, 7698, 7699, 7700, 7701, 7702, 7703, 7704, 7705, 7706, 7707, 7708, 7709, 7710, 7711, 7712, 7713, 7714, 7715, 7716, 7717, 7718, 7719, 7720, 7721, 7722, 7723, 7724, 7725, 7726, 7727, 7728, 7729, 7730, 7731, 7732, 7733, 7734, 7735, 7736, 7737, 7738, 7739, 7740, 7741, 7742, 7743, 7744, 7745, 7746, 7747, 7748, 7749, 7750, 7751, 7752, 7753, 7754, 7755, 7756, 7757, 7758, 7759, 7760, 7761, 7762, 7763, 7764, 7765, 7766, 7767, 7768, 7769, 7770, 7771, 7772, 7773, 7774, 7775, 7776, 7777, 7778, 7779, 7780, 7781, 7782, 7783, 7784, 7785, 7786, 7787, 7788, 7789, 7790, 7791, 7792, 7793, 7794, 7795, 7796, 7797, 7798, 7799, 7800, 7801, 7802, 7803, 7804, 7805, 7806, 7807, 7808, 7809, 7810, 7811, 7812, 7813, 7814, 7815, 7816, 7817, 7818, 7819, 7820, 7821, 7822, 7823, 7824, 7825, 7826, 7827, 7828, 7829, 7830, 7831, 7832, 7833, 7834, 7835, 7836, 7837, 7838, 7839, 7840, 7841, 7842, 7843, 7844, 7845, 7846, 7847, 7848, 7849, 7850, 7851, 7852, 7853, 7854, 7855, 7856, 7857, 7858, 7859, 7860, 7861, 7862, 7863, 7864, 7865, 7866, 7867, 7868, 7869, 7870, 7871, 7872, 7873, 7874, 7875, 7876, 7877, 7878, 7879, 7880, 7881, 8000, 8001, 8002, 8003, 8004, 8005, 8006, 8007, 8008, 8009, 8010, 8011, 8012, 8013, 8014, 8015, 8016, 8017, 8018, 8019, 8020, 8021, 8022, 8023, 8024, 8025, 8026, 8027, 8028, 8029, 8030, 8031, 8032, 8033, 8034, 8035, 8036, 8037, 8038, 8039, 8040, 8041, 8042, 8043, 8044, 8045, 8046, 8047, 8048, 8049, 8050, 8051, 8052, 8053, 8054, 8055, 8056, 8057, 8058, 8059, 8060, 8061, 8062, 8063, 8064, 8065, 8066, 8067, 8068, 8069, 8070, 8071, 8072, 8073, 8074, 8075, 8076, 8077, 8078, 8079, 8080, 8081, 8082, 8083, 8084, 8085, 8086, 8087, 8088, 8089, 8090, 8091, 8092, 8093, 8094, 8095, 8096, 8097, 8098, 8099, 9000, 9001, 9002, 9003, 9004, 9005, 9006, 9007, 9008, 9009, 9010, 9011, 9012, 9013, 9014, 9015, 9016, 9017, 9018, 9019, 9020, 9021, 9022, 9023, 9024, 9025, 9026]\n"
     ]
    }
   ],
   "source": [
    "bus_vehicles = list(range(1000,1150))+ list(range(2000,2111)) + list(range(2150,2156)) + list(range(2240,2486))\n",
    "bus_vehicles = bus_vehicles + list(range(2600,2620)) + list(range(2700,2766)) + list(range(2767,2859))\n",
    "bus_vehicles = bus_vehicles + list(range(7000,7135)) + list(range(7400,7450)) + list(range(7500,7620)) + list(range(7620,7882))\n",
    "bus_vehicles = bus_vehicles + list(range(8000,8100)) + list(range(9000,9027))\n",
    "valid_vehicles = streetcar_vehicles + bus_vehicles\n",
    "print(\"valid vehicles\",valid_vehicles)"
   ]
  },
  {
   "cell_type": "markdown",
   "metadata": {},
   "source": [
    "# Vehicles that are not legitimate subjects of streetcar incidents\n",
    "The following vehicles are not legitimate subjects of streetcar incidents because they run on completely separate tracks (RT and subway) or they have been retired (6xxx buses).\n",
    "\n",
    "- RT cars 3xxx: https://cptdb.ca/wiki/index.php/Toronto_Transit_Commission_3000-3027\n",
    "- Subway cars 5xxx https://cptdb.ca/wiki/index.php/Toronto_Transit_Commission_5000-5371\n",
    "- Retired Buses 6xxx: https://cptdb.ca/wiki/index.php/Toronto_Transit_Commission_6000-6122\n"
   ]
  },
  {
   "cell_type": "code",
   "execution_count": 3,
   "metadata": {},
   "outputs": [],
   "source": [
    "# load the valid list of TTC Streetcar routes\n",
    "valid_routes = ['501','502','503','504','505','506','509','510','511','512','301','304','306','310']"
   ]
  },
  {
   "cell_type": "code",
   "execution_count": 4,
   "metadata": {},
   "outputs": [
    {
     "data": {
      "text/plain": [
       "['501',\n",
       " '502',\n",
       " '503',\n",
       " '504',\n",
       " '505',\n",
       " '506',\n",
       " '509',\n",
       " '510',\n",
       " '511',\n",
       " '512',\n",
       " '301',\n",
       " '304',\n",
       " '306',\n",
       " '310']"
      ]
     },
     "execution_count": 4,
     "metadata": {},
     "output_type": "execute_result"
    }
   ],
   "source": [
    "valid_routes"
   ]
  },
  {
   "cell_type": "code",
   "execution_count": 5,
   "metadata": {},
   "outputs": [],
   "source": [
    "# original valid directions\n",
    "# valid_directions = ['E/B','W/B','N/B','S/B','B/W']\n",
    "# revised valid directions to include lowercasing and removal of '/' and simplify to single letter\n",
    "valid_directions = ['e','w','n','s','b']"
   ]
  },
  {
   "cell_type": "code",
   "execution_count": 6,
   "metadata": {},
   "outputs": [],
   "source": [
    "valid_days = ['Monday','Tuesday','Wednesday','Thursday','Friday','Saturday','Sunday']"
   ]
  },
  {
   "cell_type": "markdown",
   "metadata": {},
   "source": [
    "# Load and Save Data\n",
    "- parse list of XLS files \n",
    "- load XLS files, tab by tab, into dataframe\n",
    "- pickle dataframe for future runs"
   ]
  },
  {
   "cell_type": "code",
   "execution_count": 7,
   "metadata": {},
   "outputs": [],
   "source": [
    "# variables to control function of this notebook\n",
    "# control whether to load data from scratch from original source or from saved dataframe\n",
    "load_from_scratch = False\n",
    "# control whether to save dataframe with transformed data\n",
    "save_transformed_dataframe = True\n",
    "# control whether rows containing erroneous values are removed from the saved dataset\n",
    "remove_bad_values = True"
   ]
  },
  {
   "cell_type": "code",
   "execution_count": 8,
   "metadata": {},
   "outputs": [],
   "source": [
    "import numpy as np # linear algebra\n",
    "import pandas as pd # data processing, CSV file I/O (e.g. pd.read_csv)\n",
    "import matplotlib.pyplot as plt\n",
    "# import seaborn as sns\n",
    "import datetime\n",
    "import os\n"
   ]
  },
  {
   "cell_type": "code",
   "execution_count": 9,
   "metadata": {},
   "outputs": [
    {
     "name": "stdout",
     "output_type": "stream",
     "text": [
      "raw path is C:\\personal\\manning\\deep_learning_for_structured_data\\notebooks\n"
     ]
    }
   ],
   "source": [
    "# get the directory for that this notebook is in\n",
    "rawpath = os.getcwd()\n",
    "print(\"raw path is\",rawpath)"
   ]
  },
  {
   "cell_type": "code",
   "execution_count": 10,
   "metadata": {},
   "outputs": [
    {
     "name": "stdout",
     "output_type": "stream",
     "text": [
      "path is C:\\personal\\manning\\deep_learning_for_structured_data\\data/\n"
     ]
    }
   ],
   "source": [
    "# data is in a directory called \"data\" that is a sibling to the directory containing the notebook\n",
    "# this code assumes you have copied to this directory all the XLS files from the source dataset: https://www.toronto.ca/city-government/data-research-maps/open-data/open-data-catalogue/#e8f359f0-2f47-3058-bf64-6ec488de52da\n",
    "path = os.path.abspath(os.path.join(rawpath, '..', 'data')) + \"/\"\n",
    "print(\"path is\", path)"
   ]
  },
  {
   "cell_type": "code",
   "execution_count": 11,
   "metadata": {},
   "outputs": [],
   "source": [
    "# pickled_dataframe = '20142018_df.pkl'\n",
    "pickled_input_dataframe = '2014_2019.pkl'\n",
    "# pickled_output_dataframe = '2014_2018_df.pkl'\n",
    "pickled_output_dataframe = '2014_2018_df_cleaned_remove_bad_apr23.pkl'\n",
    "# path,picklename,firstfile, firstsheet\n",
    "\n"
   ]
  },
  {
   "cell_type": "code",
   "execution_count": 12,
   "metadata": {},
   "outputs": [],
   "source": [
    "# define categories for input columns\n",
    "def define_feature_categories(df):\n",
    "    allcols = list(df)\n",
    "    print(\"all cols\",allcols)\n",
    "    textcols = ['Incident','Location'] # \n",
    "    continuouscols = ['Min Delay','Min Gap'] \n",
    "                      # columns to deal with as continuous values - no embeddings\n",
    "    timecols = ['Report Date','Time']\n",
    "    collist = ['Day','Vehicle','Route','Direction']\n",
    "    for col in continuouscols:\n",
    "        df[col] = df[col].astype(float)\n",
    "    print('texcols: ',textcols)\n",
    "    print('continuouscols: ',continuouscols)\n",
    "    print('timecols: ',timecols)\n",
    "    print('collist: ',collist)\n",
    "    return(allcols,textcols,continuouscols,timecols,collist)"
   ]
  },
  {
   "cell_type": "markdown",
   "metadata": {},
   "source": [
    "# Load dataframe\n",
    "- load pickled dataframe\n",
    "- show info about the dataset\n"
   ]
  },
  {
   "cell_type": "code",
   "execution_count": 13,
   "metadata": {},
   "outputs": [
    {
     "data": {
      "text/html": [
       "<div>\n",
       "<style scoped>\n",
       "    .dataframe tbody tr th:only-of-type {\n",
       "        vertical-align: middle;\n",
       "    }\n",
       "\n",
       "    .dataframe tbody tr th {\n",
       "        vertical-align: top;\n",
       "    }\n",
       "\n",
       "    .dataframe thead th {\n",
       "        text-align: right;\n",
       "    }\n",
       "</style>\n",
       "<table border=\"1\" class=\"dataframe\">\n",
       "  <thead>\n",
       "    <tr style=\"text-align: right;\">\n",
       "      <th></th>\n",
       "      <th>Day</th>\n",
       "      <th>Delay</th>\n",
       "      <th>Direction</th>\n",
       "      <th>Gap</th>\n",
       "      <th>Incident</th>\n",
       "      <th>Incident ID</th>\n",
       "      <th>Location</th>\n",
       "      <th>Min Delay</th>\n",
       "      <th>Min Gap</th>\n",
       "      <th>Report Date</th>\n",
       "      <th>Route</th>\n",
       "      <th>Time</th>\n",
       "      <th>Vehicle</th>\n",
       "    </tr>\n",
       "  </thead>\n",
       "  <tbody>\n",
       "    <tr>\n",
       "      <td>0</td>\n",
       "      <td>Thursday</td>\n",
       "      <td>NaN</td>\n",
       "      <td>E/B</td>\n",
       "      <td>NaN</td>\n",
       "      <td>Late Leaving Garage</td>\n",
       "      <td>NaN</td>\n",
       "      <td>Dundas and Roncesvalles</td>\n",
       "      <td>4.0</td>\n",
       "      <td>8.0</td>\n",
       "      <td>2014-01-02</td>\n",
       "      <td>505</td>\n",
       "      <td>06:31:00</td>\n",
       "      <td>4018.0</td>\n",
       "    </tr>\n",
       "    <tr>\n",
       "      <td>1</td>\n",
       "      <td>Thursday</td>\n",
       "      <td>NaN</td>\n",
       "      <td>E/B</td>\n",
       "      <td>NaN</td>\n",
       "      <td>Utilized Off Route</td>\n",
       "      <td>NaN</td>\n",
       "      <td>King and Shaw</td>\n",
       "      <td>20.0</td>\n",
       "      <td>22.0</td>\n",
       "      <td>2014-01-02</td>\n",
       "      <td>504</td>\n",
       "      <td>12:43:00</td>\n",
       "      <td>4128.0</td>\n",
       "    </tr>\n",
       "    <tr>\n",
       "      <td>2</td>\n",
       "      <td>Thursday</td>\n",
       "      <td>NaN</td>\n",
       "      <td>W/B</td>\n",
       "      <td>NaN</td>\n",
       "      <td>Held By</td>\n",
       "      <td>NaN</td>\n",
       "      <td>Kingston road and Bingham</td>\n",
       "      <td>13.0</td>\n",
       "      <td>19.0</td>\n",
       "      <td>2014-01-02</td>\n",
       "      <td>501</td>\n",
       "      <td>14:01:00</td>\n",
       "      <td>4016.0</td>\n",
       "    </tr>\n",
       "    <tr>\n",
       "      <td>3</td>\n",
       "      <td>Thursday</td>\n",
       "      <td>NaN</td>\n",
       "      <td>W/B</td>\n",
       "      <td>NaN</td>\n",
       "      <td>Investigation</td>\n",
       "      <td>NaN</td>\n",
       "      <td>King St. and Roncesvalles Ave.</td>\n",
       "      <td>7.0</td>\n",
       "      <td>11.0</td>\n",
       "      <td>2014-01-02</td>\n",
       "      <td>504</td>\n",
       "      <td>14:22:00</td>\n",
       "      <td>4175.0</td>\n",
       "    </tr>\n",
       "    <tr>\n",
       "      <td>4</td>\n",
       "      <td>Thursday</td>\n",
       "      <td>NaN</td>\n",
       "      <td>E/B</td>\n",
       "      <td>NaN</td>\n",
       "      <td>Utilized Off Route</td>\n",
       "      <td>NaN</td>\n",
       "      <td>King and Bathurst</td>\n",
       "      <td>3.0</td>\n",
       "      <td>6.0</td>\n",
       "      <td>2014-01-02</td>\n",
       "      <td>504</td>\n",
       "      <td>16:42:00</td>\n",
       "      <td>4080.0</td>\n",
       "    </tr>\n",
       "  </tbody>\n",
       "</table>\n",
       "</div>"
      ],
      "text/plain": [
       "        Day  Delay Direction  Gap             Incident  Incident ID  \\\n",
       "0  Thursday    NaN       E/B  NaN  Late Leaving Garage          NaN   \n",
       "1  Thursday    NaN       E/B  NaN   Utilized Off Route          NaN   \n",
       "2  Thursday    NaN       W/B  NaN              Held By          NaN   \n",
       "3  Thursday    NaN       W/B  NaN        Investigation          NaN   \n",
       "4  Thursday    NaN       E/B  NaN   Utilized Off Route          NaN   \n",
       "\n",
       "                         Location  Min Delay  Min Gap Report Date  Route  \\\n",
       "0         Dundas and Roncesvalles        4.0      8.0  2014-01-02    505   \n",
       "1                   King and Shaw       20.0     22.0  2014-01-02    504   \n",
       "2       Kingston road and Bingham       13.0     19.0  2014-01-02    501   \n",
       "3  King St. and Roncesvalles Ave.        7.0     11.0  2014-01-02    504   \n",
       "4               King and Bathurst        3.0      6.0  2014-01-02    504   \n",
       "\n",
       "       Time  Vehicle  \n",
       "0  06:31:00   4018.0  \n",
       "1  12:43:00   4128.0  \n",
       "2  14:01:00   4016.0  \n",
       "3  14:22:00   4175.0  \n",
       "4  16:42:00   4080.0  "
      ]
     },
     "execution_count": 13,
     "metadata": {},
     "output_type": "execute_result"
    }
   ],
   "source": [
    "# read in previously pickled dataframe containing data from s/s 2014 - 2019\n",
    "df = pd.read_pickle(os.path.join(path,pickled_input_dataframe))\n",
    "df.head()"
   ]
  },
  {
   "cell_type": "markdown",
   "metadata": {},
   "source": [
    "# General explorations\n"
   ]
  },
  {
   "cell_type": "code",
   "execution_count": 14,
   "metadata": {},
   "outputs": [
    {
     "data": {
      "text/html": [
       "<div>\n",
       "<style scoped>\n",
       "    .dataframe tbody tr th:only-of-type {\n",
       "        vertical-align: middle;\n",
       "    }\n",
       "\n",
       "    .dataframe tbody tr th {\n",
       "        vertical-align: top;\n",
       "    }\n",
       "\n",
       "    .dataframe thead th {\n",
       "        text-align: right;\n",
       "    }\n",
       "</style>\n",
       "<table border=\"1\" class=\"dataframe\">\n",
       "  <thead>\n",
       "    <tr style=\"text-align: right;\">\n",
       "      <th></th>\n",
       "      <th>Delay</th>\n",
       "      <th>Gap</th>\n",
       "      <th>Incident ID</th>\n",
       "      <th>Min Delay</th>\n",
       "      <th>Min Gap</th>\n",
       "      <th>Route</th>\n",
       "      <th>Vehicle</th>\n",
       "    </tr>\n",
       "  </thead>\n",
       "  <tbody>\n",
       "    <tr>\n",
       "      <td>count</td>\n",
       "      <td>3444.000000</td>\n",
       "      <td>3434.000000</td>\n",
       "      <td>889.000000</td>\n",
       "      <td>75004.000000</td>\n",
       "      <td>74975.000000</td>\n",
       "      <td>78525.000000</td>\n",
       "      <td>73890.000000</td>\n",
       "    </tr>\n",
       "    <tr>\n",
       "      <td>mean</td>\n",
       "      <td>14.503194</td>\n",
       "      <td>20.133663</td>\n",
       "      <td>3.901012</td>\n",
       "      <td>12.817570</td>\n",
       "      <td>18.304915</td>\n",
       "      <td>500.840688</td>\n",
       "      <td>4405.327920</td>\n",
       "    </tr>\n",
       "    <tr>\n",
       "      <td>std</td>\n",
       "      <td>38.477453</td>\n",
       "      <td>37.362669</td>\n",
       "      <td>2.861142</td>\n",
       "      <td>30.083595</td>\n",
       "      <td>33.678868</td>\n",
       "      <td>45.366162</td>\n",
       "      <td>1570.424282</td>\n",
       "    </tr>\n",
       "    <tr>\n",
       "      <td>min</td>\n",
       "      <td>0.000000</td>\n",
       "      <td>0.000000</td>\n",
       "      <td>1.000000</td>\n",
       "      <td>0.000000</td>\n",
       "      <td>0.000000</td>\n",
       "      <td>1.000000</td>\n",
       "      <td>0.000000</td>\n",
       "    </tr>\n",
       "    <tr>\n",
       "      <td>25%</td>\n",
       "      <td>5.000000</td>\n",
       "      <td>10.000000</td>\n",
       "      <td>1.000000</td>\n",
       "      <td>5.000000</td>\n",
       "      <td>9.000000</td>\n",
       "      <td>501.000000</td>\n",
       "      <td>4077.000000</td>\n",
       "    </tr>\n",
       "    <tr>\n",
       "      <td>50%</td>\n",
       "      <td>7.000000</td>\n",
       "      <td>14.000000</td>\n",
       "      <td>5.000000</td>\n",
       "      <td>6.000000</td>\n",
       "      <td>12.000000</td>\n",
       "      <td>505.000000</td>\n",
       "      <td>4170.000000</td>\n",
       "    </tr>\n",
       "    <tr>\n",
       "      <td>75%</td>\n",
       "      <td>11.000000</td>\n",
       "      <td>20.000000</td>\n",
       "      <td>7.000000</td>\n",
       "      <td>12.000000</td>\n",
       "      <td>20.000000</td>\n",
       "      <td>509.000000</td>\n",
       "      <td>4412.000000</td>\n",
       "    </tr>\n",
       "    <tr>\n",
       "      <td>max</td>\n",
       "      <td>996.000000</td>\n",
       "      <td>999.000000</td>\n",
       "      <td>10.000000</td>\n",
       "      <td>1400.000000</td>\n",
       "      <td>4216.000000</td>\n",
       "      <td>999.000000</td>\n",
       "      <td>163242.000000</td>\n",
       "    </tr>\n",
       "  </tbody>\n",
       "</table>\n",
       "</div>"
      ],
      "text/plain": [
       "             Delay          Gap  Incident ID     Min Delay       Min Gap  \\\n",
       "count  3444.000000  3434.000000   889.000000  75004.000000  74975.000000   \n",
       "mean     14.503194    20.133663     3.901012     12.817570     18.304915   \n",
       "std      38.477453    37.362669     2.861142     30.083595     33.678868   \n",
       "min       0.000000     0.000000     1.000000      0.000000      0.000000   \n",
       "25%       5.000000    10.000000     1.000000      5.000000      9.000000   \n",
       "50%       7.000000    14.000000     5.000000      6.000000     12.000000   \n",
       "75%      11.000000    20.000000     7.000000     12.000000     20.000000   \n",
       "max     996.000000   999.000000    10.000000   1400.000000   4216.000000   \n",
       "\n",
       "              Route        Vehicle  \n",
       "count  78525.000000   73890.000000  \n",
       "mean     500.840688    4405.327920  \n",
       "std       45.366162    1570.424282  \n",
       "min        1.000000       0.000000  \n",
       "25%      501.000000    4077.000000  \n",
       "50%      505.000000    4170.000000  \n",
       "75%      509.000000    4412.000000  \n",
       "max      999.000000  163242.000000  "
      ]
     },
     "execution_count": 14,
     "metadata": {},
     "output_type": "execute_result"
    }
   ],
   "source": [
    "# get various summary statistics, excluding NaN values\n",
    "df.describe()"
   ]
  },
  {
   "cell_type": "code",
   "execution_count": 15,
   "metadata": {},
   "outputs": [
    {
     "data": {
      "text/html": [
       "<div>\n",
       "<style scoped>\n",
       "    .dataframe tbody tr th:only-of-type {\n",
       "        vertical-align: middle;\n",
       "    }\n",
       "\n",
       "    .dataframe tbody tr th {\n",
       "        vertical-align: top;\n",
       "    }\n",
       "\n",
       "    .dataframe thead th {\n",
       "        text-align: right;\n",
       "    }\n",
       "</style>\n",
       "<table border=\"1\" class=\"dataframe\">\n",
       "  <thead>\n",
       "    <tr style=\"text-align: right;\">\n",
       "      <th></th>\n",
       "      <th>Day</th>\n",
       "      <th>Delay</th>\n",
       "      <th>Direction</th>\n",
       "      <th>Gap</th>\n",
       "      <th>Incident</th>\n",
       "      <th>Incident ID</th>\n",
       "      <th>Location</th>\n",
       "      <th>Min Delay</th>\n",
       "      <th>Min Gap</th>\n",
       "      <th>Report Date</th>\n",
       "      <th>Route</th>\n",
       "      <th>Time</th>\n",
       "      <th>Vehicle</th>\n",
       "    </tr>\n",
       "  </thead>\n",
       "  <tbody>\n",
       "    <tr>\n",
       "      <td>268</td>\n",
       "      <td>Saturday</td>\n",
       "      <td>NaN</td>\n",
       "      <td>W/B</td>\n",
       "      <td>NaN</td>\n",
       "      <td>Mechanical</td>\n",
       "      <td>NaN</td>\n",
       "      <td>College and Lansdown</td>\n",
       "      <td>6.0</td>\n",
       "      <td>12.0</td>\n",
       "      <td>2015-07-11</td>\n",
       "      <td>506</td>\n",
       "      <td>10:30:00</td>\n",
       "      <td>4001.0</td>\n",
       "    </tr>\n",
       "    <tr>\n",
       "      <td>544</td>\n",
       "      <td>Sunday</td>\n",
       "      <td>NaN</td>\n",
       "      <td>E/B</td>\n",
       "      <td>NaN</td>\n",
       "      <td>Mechanical</td>\n",
       "      <td>NaN</td>\n",
       "      <td>Queen at Niagara</td>\n",
       "      <td>16.0</td>\n",
       "      <td>24.0</td>\n",
       "      <td>2016-02-14</td>\n",
       "      <td>501</td>\n",
       "      <td>07:18:00</td>\n",
       "      <td>4241.0</td>\n",
       "    </tr>\n",
       "    <tr>\n",
       "      <td>119</td>\n",
       "      <td>Sunday</td>\n",
       "      <td>NaN</td>\n",
       "      <td>E/B</td>\n",
       "      <td>NaN</td>\n",
       "      <td>Held By</td>\n",
       "      <td>NaN</td>\n",
       "      <td>Queen and River</td>\n",
       "      <td>19.0</td>\n",
       "      <td>28.0</td>\n",
       "      <td>2017-12-03</td>\n",
       "      <td>501</td>\n",
       "      <td>19:19:00</td>\n",
       "      <td>4236.0</td>\n",
       "    </tr>\n",
       "    <tr>\n",
       "      <td>540</td>\n",
       "      <td>Thursday</td>\n",
       "      <td>NaN</td>\n",
       "      <td>W/B</td>\n",
       "      <td>NaN</td>\n",
       "      <td>Utilized Off Route</td>\n",
       "      <td>NaN</td>\n",
       "      <td>Spadina at college</td>\n",
       "      <td>4.0</td>\n",
       "      <td>8.0</td>\n",
       "      <td>2014-10-16</td>\n",
       "      <td>510</td>\n",
       "      <td>06:56:00</td>\n",
       "      <td>4027.0</td>\n",
       "    </tr>\n",
       "    <tr>\n",
       "      <td>800</td>\n",
       "      <td>Wednesday</td>\n",
       "      <td>NaN</td>\n",
       "      <td>E/B</td>\n",
       "      <td>NaN</td>\n",
       "      <td>Mechanical</td>\n",
       "      <td>NaN</td>\n",
       "      <td>High Park Loop</td>\n",
       "      <td>6.0</td>\n",
       "      <td>12.0</td>\n",
       "      <td>2017-07-26</td>\n",
       "      <td>506</td>\n",
       "      <td>15:30:00</td>\n",
       "      <td>4078.0</td>\n",
       "    </tr>\n",
       "    <tr>\n",
       "      <td>612</td>\n",
       "      <td>Friday</td>\n",
       "      <td>NaN</td>\n",
       "      <td>N/B</td>\n",
       "      <td>NaN</td>\n",
       "      <td>Overhead - Pantograph</td>\n",
       "      <td>NaN</td>\n",
       "      <td>Spadina Station</td>\n",
       "      <td>12.0</td>\n",
       "      <td>16.0</td>\n",
       "      <td>2019-08-23</td>\n",
       "      <td>510</td>\n",
       "      <td>11:32:00</td>\n",
       "      <td>4516.0</td>\n",
       "    </tr>\n",
       "    <tr>\n",
       "      <td>1371</td>\n",
       "      <td>Thursday</td>\n",
       "      <td>NaN</td>\n",
       "      <td>W/B</td>\n",
       "      <td>NaN</td>\n",
       "      <td>Late Leaving Garage</td>\n",
       "      <td>NaN</td>\n",
       "      <td>Leslie Yard</td>\n",
       "      <td>5.0</td>\n",
       "      <td>10.0</td>\n",
       "      <td>2017-12-28</td>\n",
       "      <td>510</td>\n",
       "      <td>04:50:00</td>\n",
       "      <td>4405.0</td>\n",
       "    </tr>\n",
       "    <tr>\n",
       "      <td>6</td>\n",
       "      <td>Saturday</td>\n",
       "      <td>NaN</td>\n",
       "      <td>E/B</td>\n",
       "      <td>NaN</td>\n",
       "      <td>Mechanical</td>\n",
       "      <td>NaN</td>\n",
       "      <td>Long Branch</td>\n",
       "      <td>6.0</td>\n",
       "      <td>12.0</td>\n",
       "      <td>2018-12-01</td>\n",
       "      <td>501</td>\n",
       "      <td>10:14:00</td>\n",
       "      <td>4164.0</td>\n",
       "    </tr>\n",
       "    <tr>\n",
       "      <td>583</td>\n",
       "      <td>Thursday</td>\n",
       "      <td>NaN</td>\n",
       "      <td>N/B</td>\n",
       "      <td>NaN</td>\n",
       "      <td>Mechanical</td>\n",
       "      <td>NaN</td>\n",
       "      <td>Sullivan</td>\n",
       "      <td>12.0</td>\n",
       "      <td>20.0</td>\n",
       "      <td>2017-06-15</td>\n",
       "      <td>510</td>\n",
       "      <td>11:18:00</td>\n",
       "      <td>4435.0</td>\n",
       "    </tr>\n",
       "    <tr>\n",
       "      <td>803</td>\n",
       "      <td>Monday</td>\n",
       "      <td>NaN</td>\n",
       "      <td>E/B</td>\n",
       "      <td>NaN</td>\n",
       "      <td>Mechanical</td>\n",
       "      <td>NaN</td>\n",
       "      <td>St Clair and Oakwood</td>\n",
       "      <td>2.0</td>\n",
       "      <td>5.0</td>\n",
       "      <td>2014-08-25</td>\n",
       "      <td>512</td>\n",
       "      <td>08:10:00</td>\n",
       "      <td>4187.0</td>\n",
       "    </tr>\n",
       "  </tbody>\n",
       "</table>\n",
       "</div>"
      ],
      "text/plain": [
       "            Day  Delay Direction  Gap               Incident  Incident ID  \\\n",
       "268    Saturday    NaN       W/B  NaN             Mechanical          NaN   \n",
       "544      Sunday    NaN       E/B  NaN             Mechanical          NaN   \n",
       "119      Sunday    NaN       E/B  NaN                Held By          NaN   \n",
       "540    Thursday    NaN       W/B  NaN     Utilized Off Route          NaN   \n",
       "800   Wednesday    NaN       E/B  NaN             Mechanical          NaN   \n",
       "612      Friday    NaN       N/B  NaN  Overhead - Pantograph          NaN   \n",
       "1371   Thursday    NaN       W/B  NaN    Late Leaving Garage          NaN   \n",
       "6      Saturday    NaN       E/B  NaN             Mechanical          NaN   \n",
       "583    Thursday    NaN       N/B  NaN             Mechanical          NaN   \n",
       "803      Monday    NaN       E/B  NaN             Mechanical          NaN   \n",
       "\n",
       "                  Location  Min Delay  Min Gap Report Date  Route      Time  \\\n",
       "268   College and Lansdown        6.0     12.0  2015-07-11    506  10:30:00   \n",
       "544       Queen at Niagara       16.0     24.0  2016-02-14    501  07:18:00   \n",
       "119        Queen and River       19.0     28.0  2017-12-03    501  19:19:00   \n",
       "540     Spadina at college        4.0      8.0  2014-10-16    510  06:56:00   \n",
       "800         High Park Loop        6.0     12.0  2017-07-26    506  15:30:00   \n",
       "612        Spadina Station       12.0     16.0  2019-08-23    510  11:32:00   \n",
       "1371           Leslie Yard        5.0     10.0  2017-12-28    510  04:50:00   \n",
       "6              Long Branch        6.0     12.0  2018-12-01    501  10:14:00   \n",
       "583               Sullivan       12.0     20.0  2017-06-15    510  11:18:00   \n",
       "803   St Clair and Oakwood        2.0      5.0  2014-08-25    512  08:10:00   \n",
       "\n",
       "      Vehicle  \n",
       "268    4001.0  \n",
       "544    4241.0  \n",
       "119    4236.0  \n",
       "540    4027.0  \n",
       "800    4078.0  \n",
       "612    4516.0  \n",
       "1371   4405.0  \n",
       "6      4164.0  \n",
       "583    4435.0  \n",
       "803    4187.0  "
      ]
     },
     "execution_count": 15,
     "metadata": {},
     "output_type": "execute_result"
    }
   ],
   "source": [
    "# get a sample of the raw data\n",
    "df.sample(10)"
   ]
  },
  {
   "cell_type": "code",
   "execution_count": 16,
   "metadata": {},
   "outputs": [
    {
     "data": {
      "text/plain": [
       "Mechanical               37873\n",
       "Investigation            10950\n",
       "Held By                   9148\n",
       "Late Leaving Garage       7749\n",
       "General Delay             5766\n",
       "Utilized Off Route        2961\n",
       "Emergency Services        2687\n",
       "Diversion                 1191\n",
       "Overhead - Pantograph      200\n",
       "Name: Incident, dtype: int64"
      ]
     },
     "execution_count": 16,
     "metadata": {},
     "output_type": "execute_result"
    }
   ],
   "source": [
    "df['Incident'].value_counts()"
   ]
  },
  {
   "cell_type": "code",
   "execution_count": 17,
   "metadata": {},
   "outputs": [
    {
     "name": "stdout",
     "output_type": "stream",
     "text": [
      "incident count 9\n"
     ]
    }
   ],
   "source": [
    "print(\"incident count\",df['Incident'].nunique())"
   ]
  },
  {
   "cell_type": "code",
   "execution_count": 18,
   "metadata": {},
   "outputs": [
    {
     "data": {
      "text/plain": [
       "(2147, 13)"
      ]
     },
     "execution_count": 18,
     "metadata": {},
     "output_type": "execute_result"
    }
   ],
   "source": [
    "# iris[iris.Petal_length > iris.Sepal_length]\n",
    "df[df['Min Gap'] < df['Min Delay']].shape"
   ]
  },
  {
   "cell_type": "markdown",
   "metadata": {},
   "source": [
    "# Visualize data"
   ]
  },
  {
   "cell_type": "code",
   "execution_count": 19,
   "metadata": {},
   "outputs": [
    {
     "name": "stdout",
     "output_type": "stream",
     "text": [
      "Requirement already satisfied: pixiedust in c:\\users\\ryanm\\appdata\\local\\programs\\python\\python37\\lib\\site-packages (1.1.18)\n",
      "Requirement already satisfied: geojson in c:\\users\\ryanm\\appdata\\local\\programs\\python\\python37\\lib\\site-packages (from pixiedust) (2.5.0)\n",
      "Requirement already satisfied: lxml in c:\\users\\ryanm\\appdata\\local\\programs\\python\\python37\\lib\\site-packages (from pixiedust) (4.5.0)\n",
      "Requirement already satisfied: markdown in c:\\users\\ryanm\\appdata\\local\\programs\\python\\python37\\lib\\site-packages (from pixiedust) (3.1.1)\n",
      "Requirement already satisfied: requests in c:\\users\\ryanm\\appdata\\local\\programs\\python\\python37\\lib\\site-packages (from pixiedust) (2.22.0)\n",
      "Requirement already satisfied: colour in c:\\users\\ryanm\\appdata\\local\\programs\\python\\python37\\lib\\site-packages (from pixiedust) (0.1.5)\n",
      "Requirement already satisfied: astunparse in c:\\users\\ryanm\\appdata\\local\\programs\\python\\python37\\lib\\site-packages (from pixiedust) (1.6.3)\n",
      "Requirement already satisfied: mpld3 in c:\\users\\ryanm\\appdata\\local\\programs\\python\\python37\\lib\\site-packages (from pixiedust) (0.3)"
     ]
    },
    {
     "name": "stderr",
     "output_type": "stream",
     "text": [
      "You are using pip version 19.0.3, however version 20.0.2 is available.\n",
      "You should consider upgrading via the 'python -m pip install --upgrade pip' command.\n"
     ]
    },
    {
     "name": "stdout",
     "output_type": "stream",
     "text": [
      "\n",
      "Requirement already satisfied: setuptools>=36 in c:\\users\\ryanm\\appdata\\local\\programs\\python\\python37\\lib\\site-packages (from markdown->pixiedust) (46.1.1)\n",
      "Requirement already satisfied: urllib3!=1.25.0,!=1.25.1,<1.26,>=1.21.1 in c:\\users\\ryanm\\appdata\\local\\programs\\python\\python37\\lib\\site-packages (from requests->pixiedust) (1.25.3)\n",
      "Requirement already satisfied: idna<2.9,>=2.5 in c:\\users\\ryanm\\appdata\\local\\programs\\python\\python37\\lib\\site-packages (from requests->pixiedust) (2.8)\n",
      "Requirement already satisfied: certifi>=2017.4.17 in c:\\users\\ryanm\\appdata\\local\\programs\\python\\python37\\lib\\site-packages (from requests->pixiedust) (2019.6.16)\n",
      "Requirement already satisfied: chardet<3.1.0,>=3.0.2 in c:\\users\\ryanm\\appdata\\local\\programs\\python\\python37\\lib\\site-packages (from requests->pixiedust) (3.0.4)\n",
      "Requirement already satisfied: six<2.0,>=1.6.1 in c:\\users\\ryanm\\appdata\\local\\programs\\python\\python37\\lib\\site-packages (from astunparse->pixiedust) (1.12.0)\n",
      "Requirement already satisfied: wheel<1.0,>=0.23.0 in c:\\users\\ryanm\\appdata\\local\\programs\\python\\python37\\lib\\site-packages (from astunparse->pixiedust) (0.33.6)\n"
     ]
    }
   ],
   "source": [
    "!pip install pixiedust"
   ]
  },
  {
   "cell_type": "code",
   "execution_count": 20,
   "metadata": {},
   "outputs": [
    {
     "name": "stdout",
     "output_type": "stream",
     "text": [
      "Pixiedust database opened successfully\n"
     ]
    },
    {
     "data": {
      "text/html": [
       "\n",
       "        <div style=\"margin:10px\">\n",
       "            <a href=\"https://github.com/ibm-watson-data-lab/pixiedust\" target=\"_new\">\n",
       "                <img src=\"https://github.com/ibm-watson-data-lab/pixiedust/raw/master/docs/_static/pd_icon32.png\" style=\"float:left;margin-right:10px\"/>\n",
       "            </a>\n",
       "            <span>Pixiedust version 1.1.18</span>\n",
       "        </div>\n",
       "        "
      ],
      "text/plain": [
       "<IPython.core.display.HTML object>"
      ]
     },
     "metadata": {},
     "output_type": "display_data"
    }
   ],
   "source": [
    "import pixiedust"
   ]
  },
  {
   "cell_type": "code",
   "execution_count": 21,
   "metadata": {
    "pixiedust": {
     "displayParams": {
      "binsize": "23",
      "chartsize": "70",
      "handlerId": "barChart",
      "keyFields": "Route",
      "mapboxtoken": "pk.eyJ1Ijoicnlhbm1hcmsiLCJhIjoiY2pvM2JnZmE0MHY5dzNxcXM0Zmw3c2RwZSJ9.k-PhU8qMVztXtdyuX2Yjpw",
      "sortby": "Values DESC",
      "stretch": "false",
      "tableFields": "Day",
      "valueFields": "Min Delay"
     }
    },
    "scrolled": false
   },
   "outputs": [
    {
     "data": {
      "text/html": [
       "<style type=\"text/css\">.pd_warning{display:none;}</style><div class=\"pd_warning\"><em>Hey, there's something awesome here! To see it, open this notebook outside GitHub, in a viewer like Jupyter</em></div>\n",
       "        <div class=\"pd_save is-viewer-good\" style=\"padding-right:10px;text-align: center;line-height:initial !important;font-size: xx-large;font-weight: 500;color: coral;\">\n",
       "            \n",
       "        </div>\n",
       "    <div id=\"chartFiguree5089e84\" class=\"pd_save is-viewer-good\" style=\"overflow-x:auto\">\n",
       "            \n",
       "                    \n",
       "                            <center><img style=\"max-width:initial !important\" src=\"data:image/png;base64,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\" class=\"pd_save\"></center>\n",
       "                        \n",
       "                    \n",
       "                        <div>Some labels are not displayed because of a lack of space. Click on Stretch image to see them all</div>\n",
       "                    \n",
       "                \n",
       "        </div>"
      ],
      "text/plain": [
       "<IPython.core.display.HTML object>"
      ]
     },
     "metadata": {},
     "output_type": "display_data"
    }
   ],
   "source": [
    "display(df)"
   ]
  }
 ],
 "metadata": {
  "kernelspec": {
   "display_name": "Python 3",
   "language": "python",
   "name": "python3"
  },
  "language_info": {
   "codemirror_mode": {
    "name": "ipython",
    "version": 3
   },
   "file_extension": ".py",
   "mimetype": "text/x-python",
   "name": "python",
   "nbconvert_exporter": "python",
   "pygments_lexer": "ipython3",
   "version": "3.7.4"
  }
 },
 "nbformat": 4,
 "nbformat_minor": 2
}
